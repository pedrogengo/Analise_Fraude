{
 "cells": [
  {
   "cell_type": "code",
   "execution_count": 230,
   "metadata": {},
   "outputs": [],
   "source": [
    "import numpy as np\n",
    "import random\n",
    "from sklearn.preprocessing import LabelEncoder, OneHotEncoder\n",
    "\n",
    "random.seed(42)\n",
    "\n",
    "#Definição do número de exemplos de casos fraude e casos normais\n",
    "n_fraude = 5000\n",
    "n_normal = 5000\n",
    "\n",
    "#Definição do atributo \"renda\" para ambas as classes.\n",
    "renda_fraude = np.random.normal(1300,1250,n_fraude*2)\n",
    "renda_fraude_retirados = renda_fraude[renda_fraude<700]\n",
    "renda_fraude = np.setdiff1d(renda_fraude, renda_fraude_retirados)\n",
    "valores_alem = np.random.choice(renda_fraude, renda_fraude.size - 5000, replace=False)\n",
    "renda_fraude = np.setdiff1d(renda_fraude, valores_alem)\n",
    "renda_normal = np.random.normal(1000,1250,n_normal*2)\n",
    "renda_normal_retirados = renda_normal[renda_normal<700]\n",
    "renda_normal = np.setdiff1d(renda_normal, renda_normal_retirados)\n",
    "valores_alem = np.random.choice(renda_normal, renda_normal.size - 5000, replace=False)\n",
    "renda_normal = np.setdiff1d(renda_normal, valores_alem)\n",
    "\n",
    "#Definição do atributo \"valor da compra\" para ambas as classes.\n",
    "#valor_compra_fraude = np.random.normal(400,100,n_fraude)\n",
    "valor_compra_fraude = np.random.uniform(100,1200,n_fraude)\n",
    "valor_compra_normal = np.random.normal(400,250,n_normal*2)\n",
    "valor_compra_normal = valor_compra_normal[valor_compra_normal>0]\n",
    "valores_alem = np.random.choice(valor_compra_normal, valor_compra_normal.size - 5000, replace=False)\n",
    "valor_compra_normal = np.setdiff1d(valor_compra_normal, valores_alem)\n",
    "\n",
    "#Definição do atributo \"media dos gastos nos ultimos 3 meses\" para ambas as classes.\n",
    "#https://www.terra.com.br/noticias/dino/a-cada-3-meses-o-brasileiro-gasta-cerca-de-r661-em-compras-pela-internet,70f7a51ef268f3648d98bec463372741o1lsr05w.html\n",
    "media_gastos_fraude = np.random.normal(661,340,n_fraude*2)\n",
    "media_gastos_normal = np.random.normal(661,340,n_normal*2)\n",
    "media_gastos_fraude_retirados = media_gastos_fraude[media_gastos_fraude<=0]\n",
    "media_gastos_normal_retirados = media_gastos_normal[media_gastos_normal<=0]\n",
    "media_gastos_normal = np.setdiff1d(media_gastos_normal, media_gastos_normal_retirados)\n",
    "media_gastos_fraude = np.setdiff1d(media_gastos_fraude, media_gastos_fraude_retirados)\n",
    "valores_alem = np.random.choice(media_gastos_normal, media_gastos_normal.size - 5000, replace=False)\n",
    "media_gastos_normal = np.setdiff1d(media_gastos_normal, valores_alem)\n",
    "valores_alem = np.random.choice(media_gastos_fraude, media_gastos_fraude.size - 5000, replace=False)\n",
    "media_gastos_fraude = np.setdiff1d(media_gastos_fraude, valores_alem)\n",
    "\n",
    "\n",
    "'''Categorias:\n",
    "   1->Eletronicos e Celulares\n",
    "   2->Eletrodomesticos\n",
    "   3->Informatica e Games\n",
    "   4->Outros\n",
    "   5->Vestimenta\n",
    "   6->Saude e beleza'''\n",
    "#https://novonegocio.com.br/empreendedorismo/produtos-mais-vendidos-internet//} \t\n",
    "categoria_compra_fraude = np.random.rand(n_fraude)\n",
    "categoria_compra_fraude_aux = categoria_compra_fraude\n",
    "categoria_compra_fraude[categoria_compra_fraude <= 0.55] = 1\n",
    "categoria_compra_fraude[categoria_compra_fraude <= 0.8] = 2\n",
    "categoria_compra_fraude[categoria_compra_fraude <= 0.9] = 3\n",
    "categoria_compra_fraude[categoria_compra_fraude < 1] = 4\n",
    "\n",
    "values = np.array(categoria_compra_fraude)\n",
    "\n",
    "# integer encode\n",
    "label_encoder = LabelEncoder()\n",
    "integer_encoded = label_encoder.fit_transform(values)\n",
    "\n",
    "onehot_encoder = OneHotEncoder(sparse=False)\n",
    "integer_encoded = integer_encoded.reshape(len(integer_encoded), 1)\n",
    "categoria_compra_fraude = onehot_encoder.fit_transform(integer_encoded)\n",
    "\n",
    "categoria_compra_fraude_1, categoria_compra_fraude_2, categoria_compra_fraude_3,categoria_compra_fraude_4 = categoria_compra_fraude.T\n",
    "categoria_compra_fraude_5 = np.zeros(n_fraude)\n",
    "categoria_compra_fraude_6 = np.zeros(n_fraude)\n",
    "\n",
    "categoria_compra_normal = np.random.rand(n_normal)\n",
    "categoria_compra_normal_aux = categoria_compra_normal\n",
    "categoria_compra_normal[categoria_compra_normal <= 0.4] = 1\n",
    "categoria_compra_normal[categoria_compra_normal <= 0.65] = 3\n",
    "categoria_compra_normal[categoria_compra_normal <= 0.8] = 5\n",
    "categoria_compra_normal[categoria_compra_normal <= 0.85] = 6\n",
    "categoria_compra_normal[categoria_compra_normal <= 0.9] = 2\n",
    "categoria_compra_normal[categoria_compra_normal < 1] = 4\n",
    "\n",
    "values = np.array(categoria_compra_normal)\n",
    "\n",
    "# integer encode\n",
    "label_encoder = LabelEncoder()\n",
    "integer_encoded = label_encoder.fit_transform(values)\n",
    "\n",
    "onehot_encoder = OneHotEncoder(sparse=False)\n",
    "integer_encoded = integer_encoded.reshape(len(integer_encoded), 1)\n",
    "categoria_compra_normal = onehot_encoder.fit_transform(integer_encoded)\n",
    "\n",
    "categoria_compra_normal_1, categoria_compra_normal_2, categoria_compra_normal_3,categoria_compra_normal_4, categoria_compra_normal_5, categoria_compra_normal_6 = categoria_compra_normal.T\n",
    "\n",
    "#https://ecommercenews.com.br/noticias/pesquisas-noticias/brasil-tem-horario-de-pico-de-compras-online-das-12h-as-14-diz-pesquisa/\n",
    "horario_compra_fraude = np.random.normal(13,3,n_fraude);\n",
    "horario_compra_normal = np.random.normal(13,3,n_normal);\n",
    "\n",
    "#Definição do atributo \"compra parcelada\" para ambas as classes.\n",
    "#Se foi parcelada > 1\n",
    "#Se não > 0\n",
    "compra_parcelada_fraude = np.zeros(n_fraude)\n",
    "compra_parcelada_normal = np.zeros(n_normal)\n",
    "compra_parcelada_normal[random.randint(2500, 2700): random.randint(4700, 5000)] = 1\n",
    "np.random.shuffle(compra_parcelada_normal)\n",
    "\n",
    "#Definição de um inteiro aleatório para ser usado na criação do atributo \"primeira compra na loja\"\n",
    "num_aleatorio = random.randint(3500, 4000)\n",
    "\n",
    "#Definição do atributo \"primeira compra na loja\" para ambas as classes.\n",
    "#Se foi a primeira compra > 1\n",
    "#Se não > 0\n",
    "primeira_compra_loja_fraude = np.concatenate((np.ones(num_aleatorio), np.zeros(5000-num_aleatorio)))\n",
    "primeira_compra_loja_normal = np.concatenate((np.zeros(num_aleatorio), np.ones(5000-num_aleatorio)))\n",
    "np.random.shuffle(primeira_compra_loja_fraude)\n",
    "np.random.shuffle(primeira_compra_loja_normal)\n",
    "\n",
    "#Definição do atributo \"usou cartão virtual\" para ambas as classes.\n",
    "#Se usou > 1\n",
    "#Se não > 0\n",
    "usou_cartao_virtual_fraude = np.zeros(n_fraude)\n",
    "usou_cartao_virtual_normal = np.concatenate((np.zeros(3700), np.ones(1300)))\n",
    "np.random.shuffle(usou_cartao_virtual_normal)\n",
    "\n",
    "X_normal = np.vstack([renda_normal, media_gastos_normal, valor_compra_normal, categoria_compra_normal_1, categoria_compra_normal_2, categoria_compra_normal_3, categoria_compra_normal_4, categoria_compra_normal_5, categoria_compra_normal_6, horario_compra_normal, compra_parcelada_normal, usou_cartao_virtual_normal, primeira_compra_loja_normal]).T\n",
    "X_fraude = np.vstack([renda_fraude, media_gastos_fraude, valor_compra_fraude, categoria_compra_fraude_1, categoria_compra_fraude_2, categoria_compra_fraude_3, categoria_compra_fraude_4, categoria_compra_fraude_5, categoria_compra_fraude_6, horario_compra_fraude, compra_parcelada_fraude, usou_cartao_virtual_fraude, primeira_compra_loja_fraude]).T\n",
    "\n",
    "X = np.vstack ([ X_normal , X_fraude ])\n",
    "\n",
    "y = np.array ([0] * n_normal + [1] * n_fraude )"
   ]
  },
  {
   "cell_type": "code",
   "execution_count": 134,
   "metadata": {},
   "outputs": [
    {
     "data": {
      "text/plain": [
       "[2823, 1220, 492, 465, 0]"
      ]
     },
     "execution_count": 134,
     "metadata": {},
     "output_type": "execute_result"
    }
   ],
   "source": [
    "[categoria_compra_fraude_aux[categoria_compra_fraude_aux==1].size, categoria_compra_fraude_aux[categoria_compra_fraude_aux==2].size, categoria_compra_fraude_aux[categoria_compra_fraude_aux==3].size, categoria_compra_fraude_aux[categoria_compra_fraude_aux==4].size,  categoria_compra_fraude_aux[categoria_compra_fraude_aux==5].size]"
   ]
  },
  {
   "cell_type": "code",
   "execution_count": 133,
   "metadata": {},
   "outputs": [
    {
     "data": {
      "text/plain": [
       "[1999, 249, 1221, 529, 746, 256]"
      ]
     },
     "execution_count": 133,
     "metadata": {},
     "output_type": "execute_result"
    }
   ],
   "source": [
    "[categoria_compra_normal_aux[categoria_compra_normal_aux==1].size, categoria_compra_normal_aux[categoria_compra_normal_aux==2].size, categoria_compra_normal_aux[categoria_compra_normal_aux==3].size, categoria_compra_normal_aux[categoria_compra_normal_aux==4].size, categoria_compra_normal_aux[categoria_compra_normal_aux==5].size, categoria_compra_normal_aux[categoria_compra_normal_aux==6].size] "
   ]
  },
  {
   "cell_type": "code",
   "execution_count": 231,
   "metadata": {},
   "outputs": [],
   "source": [
    "y_aux = np.array([y])\n",
    "X_and_y = np.concatenate((X, y_aux.T), axis=1)"
   ]
  },
  {
   "cell_type": "code",
   "execution_count": 180,
   "metadata": {
    "scrolled": false
   },
   "outputs": [
    {
     "data": {
      "image/png": "[encoded data removed]",
      "text/plain": [
       "<Figure size 576x288 with 2 Axes>"
      ]
     },
     "metadata": {
      "needs_background": "light"
     },
     "output_type": "display_data"
    }
   ],
   "source": [
    "%matplotlib inline\n",
    "\n",
    "import matplotlib.pyplot as plt\n",
    "\n",
    "f, ax = plt.subplots(nrows=1, ncols=2, figsize=(8, 4))\n",
    "ax = ax.ravel()\n",
    "\n",
    "count, bins, ignored = ax[0].hist(media_gastos_normal, 10, edgecolor='black', color = 'green')\n",
    "ax[0].set_title(\"NORMAL\")\n",
    "ax[0].set_xlabel(\"R$\")\n",
    "count, bins, ignored = ax[1].hist(media_gastos_fraude, 10, edgecolor='black', color='red')\n",
    "ax[1].set_title(\"FRAUDE\")\n",
    "ax[1].set_xlabel(\"R$\")\n",
    "f.suptitle('Média de gastos dos últimos três meses', fontsize=16)\n",
    "f.tight_layout(rect=[0, 0.03, 1, 0.95])\n",
    "plt.show();"
   ]
  },
  {
   "cell_type": "code",
   "execution_count": 204,
   "metadata": {},
   "outputs": [
    {
     "data": {
      "image/png": "[encoded data removed]",
      "text/plain": [
       "<Figure size 576x288 with 2 Axes>"
      ]
     },
     "metadata": {
      "needs_background": "light"
     },
     "output_type": "display_data"
    }
   ],
   "source": [
    "%matplotlib inline\n",
    "\n",
    "import matplotlib.pyplot as plt\n",
    "\n",
    "f, ax = plt.subplots(nrows=1, ncols=2, figsize=(8, 4))\n",
    "ax = ax.ravel()\n",
    "\n",
    "count, bins, ignored = ax[0].hist(renda_normal, 10, edgecolor='black', color = 'green')\n",
    "ax[0].set_title(\"NORMAL\")\n",
    "ax[0].set_xlabel(\"R$\")\n",
    "count, bins, ignored = ax[1].hist(renda_fraude, 10, edgecolor='black', color='red')\n",
    "ax[1].set_title(\"FRAUDE\")\n",
    "ax[1].set_xlabel(\"R$\")\n",
    "f.suptitle('Renda', fontsize=16)\n",
    "f.tight_layout(rect=[0, 0.03, 1, 0.95])\n",
    "plt.show();"
   ]
  },
  {
   "cell_type": "code",
   "execution_count": 178,
   "metadata": {},
   "outputs": [
    {
     "data": {
      "image/png": "[encoded data removed]",
      "text/plain": [
       "<Figure size 576x288 with 2 Axes>"
      ]
     },
     "metadata": {
      "needs_background": "light"
     },
     "output_type": "display_data"
    }
   ],
   "source": [
    "%matplotlib inline\n",
    "\n",
    "import matplotlib.pyplot as plt\n",
    "\n",
    "f, ax = plt.subplots(nrows=1, ncols=2, figsize=(8, 4))\n",
    "ax = ax.ravel()\n",
    "\n",
    "count, bins, ignored = ax[0].hist(valor_compra_normal, 10, edgecolor='black', color = 'green')\n",
    "ax[0].set_title(\"NORMAL\")\n",
    "ax[0].set_xlabel(\"R$\")\n",
    "count, bins, ignored = ax[1].hist(valor_compra_fraude, 10, edgecolor='black', color='red')\n",
    "ax[1].set_title(\"FRAUDE\")\n",
    "ax[1].set_xlabel(\"R$\")\n",
    "f.suptitle('Valor da compra', fontsize=16)\n",
    "f.tight_layout(rect=[0, 0.03, 1, 0.95])\n",
    "plt.show();"
   ]
  },
  {
   "cell_type": "code",
   "execution_count": 139,
   "metadata": {},
   "outputs": [
    {
     "data": {
      "image/png": "[encoded data removed]",
      "text/plain": [
       "<Figure size 576x288 with 2 Axes>"
      ]
     },
     "metadata": {
      "needs_background": "light"
     },
     "output_type": "display_data"
    }
   ],
   "source": [
    "%matplotlib inline\n",
    "\n",
    "import matplotlib.pyplot as plt\n",
    "\n",
    "f, ax = plt.subplots(nrows=1, ncols=2, figsize=(8, 4))\n",
    "ax = ax.ravel()\n",
    "\n",
    "ax[0].bar(x = [1, 2, 3, 4, 5, 6], height = [1999, 249, 1221, 529, 746, 256], edgecolor='black', color = 'green')\n",
    "ax[0].set_title(\"NORMAL\")\n",
    "ax[0].set_xlabel(\"Categoria\")\n",
    "ax[1].bar(x = [1, 2, 3, 4, 5, 6], height = [2823, 1220, 492, 465, 0 , 0], edgecolor='black', color='red')\n",
    "ax[1].set_title(\"FRAUDE\")\n",
    "ax[1].set_xlabel(\"Categoria\")\n",
    "f.suptitle('Categoria de compra', fontsize=16)\n",
    "f.tight_layout(rect=[0, 0.03, 1, 0.95])\n",
    "plt.show();"
   ]
  },
  {
   "cell_type": "code",
   "execution_count": 150,
   "metadata": {},
   "outputs": [
    {
     "data": {
      "image/png": "[encoded data removed]",
      "text/plain": [
       "<Figure size 576x288 with 2 Axes>"
      ]
     },
     "metadata": {
      "needs_background": "light"
     },
     "output_type": "display_data"
    }
   ],
   "source": [
    "%matplotlib inline\n",
    "\n",
    "import matplotlib.pyplot as plt\n",
    "\n",
    "f, ax = plt.subplots(nrows=1, ncols=2, figsize=(8, 4))\n",
    "ax = ax.ravel()\n",
    "\n",
    "count, bins, ignored = ax[0].hist(horario_compra_normal, 24, edgecolor='black', color = 'green')\n",
    "ax[0].set_title(\"NORMAL\")\n",
    "ax[0].set_xlabel(\"Horas\")\n",
    "count, bins, ignored = ax[1].hist(horario_compra_fraude, 24, edgecolor='black', color='red')\n",
    "ax[1].set_title(\"FRAUDE\")\n",
    "ax[1].set_xlabel(\"Horas\")\n",
    "f.suptitle('Horário da compra', fontsize=16)\n",
    "f.tight_layout(rect=[0, 0.03, 1, 0.95])\n",
    "plt.show();"
   ]
  },
  {
   "cell_type": "code",
   "execution_count": 157,
   "metadata": {},
   "outputs": [
    {
     "data": {
      "image/png": "[encoded data removed]",
      "text/plain": [
       "<Figure size 576x288 with 2 Axes>"
      ]
     },
     "metadata": {
      "needs_background": "light"
     },
     "output_type": "display_data"
    }
   ],
   "source": [
    "%matplotlib inline\n",
    "\n",
    "import matplotlib.pyplot as plt\n",
    "\n",
    "f, ax = plt.subplots(nrows=1, ncols=2, figsize=(8, 4))\n",
    "ax = ax.ravel()\n",
    "\n",
    "ax[0].bar(x = ['0', '1'],height = [(compra_parcelada_normal[compra_parcelada_normal == 0]).size, (compra_parcelada_normal[compra_parcelada_normal == 1]).size], edgecolor='black', color = 'green')\n",
    "ax[0].set_title(\"NORMAL\")\n",
    "ax[1].bar(x = ['0', '1'],height = [(compra_parcelada_fraude[compra_parcelada_fraude == 0]).size, (compra_parcelada_fraude[compra_parcelada_fraude == 1]).size], edgecolor='black', color = 'red')\n",
    "ax[1].set_title(\"FRAUDE\")\n",
    "f.suptitle('Compra parcelada', fontsize=16)\n",
    "f.tight_layout(rect=[0, 0.03, 1, 0.95])\n",
    "plt.show();"
   ]
  },
  {
   "cell_type": "code",
   "execution_count": 175,
   "metadata": {},
   "outputs": [
    {
     "data": {
      "image/png": "[encoded data removed]",
      "text/plain": [
       "<Figure size 576x288 with 2 Axes>"
      ]
     },
     "metadata": {
      "needs_background": "light"
     },
     "output_type": "display_data"
    }
   ],
   "source": [
    "%matplotlib inline\n",
    "\n",
    "import matplotlib.pyplot as plt\n",
    "\n",
    "f, ax = plt.subplots(nrows=1, ncols=2, figsize=(8, 4))\n",
    "ax = ax.ravel()\n",
    "\n",
    "ax[0].bar(x = ['0', '1'],height = [(primeira_compra_loja_normal[primeira_compra_loja_normal == 0]).size, (primeira_compra_loja_normal[primeira_compra_loja_normal == 1]).size], edgecolor='black', color = 'green')\n",
    "ax[0].set_title(\"NORMAL\")\n",
    "ax[1].bar(x = ['0', '1'],height = [(primeira_compra_loja_fraude[primeira_compra_loja_fraude == 0]).size, (primeira_compra_loja_fraude[primeira_compra_loja_fraude == 1]).size], edgecolor='black', color = 'red')\n",
    "ax[1].set_title(\"FRAUDE\")\n",
    "f.suptitle('Primeira compra na loja', fontsize=16)\n",
    "f.tight_layout(rect=[0, 0.03, 1, 0.95])\n",
    "plt.show();"
   ]
  },
  {
   "cell_type": "code",
   "execution_count": 177,
   "metadata": {},
   "outputs": [
    {
     "data": {
      "image/png": "[encoded data removed]",
      "text/plain": [
       "<Figure size 576x288 with 2 Axes>"
      ]
     },
     "metadata": {
      "needs_background": "light"
     },
     "output_type": "display_data"
    }
   ],
   "source": [
    "%matplotlib inline\n",
    "\n",
    "import matplotlib.pyplot as plt\n",
    "\n",
    "f, ax = plt.subplots(nrows=1, ncols=2, figsize=(8, 4))\n",
    "ax = ax.ravel()\n",
    "\n",
    "ax[0].bar(x = ['0', '1'],height = [(usou_cartao_virtual_normal[usou_cartao_virtual_normal == 0]).size, (usou_cartao_virtual_normal[usou_cartao_virtual_normal == 1]).size], edgecolor='black', color = 'green')\n",
    "ax[0].set_title(\"NORMAL\")\n",
    "ax[1].bar(x = ['0', '1'],height = [(usou_cartao_virtual_fraude[usou_cartao_virtual_fraude == 0]).size, (usou_cartao_virtual_fraude[usou_cartao_virtual_fraude == 1]).size], edgecolor='black', color = 'red')\n",
    "ax[1].set_title(\"FRAUDE\")\n",
    "f.suptitle('Uso do cartão virtual', fontsize=16)\n",
    "f.tight_layout(rect=[0, 0.03, 1, 0.95])\n",
    "plt.show();"
   ]
  },
  {
   "cell_type": "code",
   "execution_count": 260,
   "metadata": {},
   "outputs": [
    {
     "data": {
      "text/plain": [
       "DecisionTreeClassifier(class_weight=None, criterion='gini', max_depth=5,\n",
       "            max_features=None, max_leaf_nodes=None,\n",
       "            min_impurity_decrease=0.0, min_impurity_split=None,\n",
       "            min_samples_leaf=0.05, min_samples_split=0.05,\n",
       "            min_weight_fraction_leaf=0.0, presort=False, random_state=None,\n",
       "            splitter='best')"
      ]
     },
     "execution_count": 260,
     "metadata": {},
     "output_type": "execute_result"
    }
   ],
   "source": [
    "from sklearn.tree import DecisionTreeClassifier\n",
    "dtree=DecisionTreeClassifier( criterion='gini', max_depth=5, splitter='best', min_samples_leaf=0.05, min_samples_split=0.05)\n",
    "dtree.fit(X,y)"
   ]
  },
  {
   "cell_type": "code",
   "execution_count": 232,
   "metadata": {},
   "outputs": [
    {
     "data": {
      "text/plain": [
       "(10000, 13)"
      ]
     },
     "execution_count": 232,
     "metadata": {},
     "output_type": "execute_result"
    }
   ],
   "source": [
    "X.shape"
   ]
  },
  {
   "cell_type": "code",
   "execution_count": 234,
   "metadata": {},
   "outputs": [],
   "source": [
    "from sklearn.utils import shuffle\n",
    "\n",
    "X_and_y = shuffle(X_and_y)\n",
    "X = X_and_y[:,:-1]\n",
    "y = X_and_y[:,-1]"
   ]
  },
  {
   "cell_type": "code",
   "execution_count": 185,
   "metadata": {},
   "outputs": [
    {
     "data": {
      "image/png": "[encoded data removed]",
      "text/plain": [
       "<Figure size 432x288 with 1 Axes>"
      ]
     },
     "metadata": {
      "needs_background": "light"
     },
     "output_type": "display_data"
    }
   ],
   "source": [
    "from sklearn.model_selection import KFold\n",
    "from sklearn.metrics import roc_curve, auc, roc_auc_score\n",
    "from matplotlib.legend_handler import HandlerLine2D\n",
    "\n",
    "kFold = KFold(n_splits=5)\n",
    "\n",
    "max_depths = np.linspace(1, 100, 100, endpoint=True)\n",
    "\n",
    "auc_test =[]\n",
    "auc_train = []\n",
    "train_results = []\n",
    "test_results = []\n",
    "\n",
    "for max_depth in max_depths:\n",
    "    for train_index, test_index in kFold.split(X):\n",
    "        X_train, X_test = X[train_index], X[test_index]\n",
    "        Y_train, Y_test = y[train_index], y[test_index]\n",
    "        dtree=DecisionTreeClassifier( criterion='entropy', splitter='best', max_depth=max_depth)\n",
    "        dtree.fit(X_train, Y_train)\n",
    "        Y_pred_train = dtree.predict(X_train)\n",
    "        Y_pred_test = dtree.predict(X_test)\n",
    "        Y_pred_prob_train = dtree.predict_proba(X_train)\n",
    "        Y_pred_prob_test = dtree.predict_proba(X_test)\n",
    "        \n",
    "    false_positive_rate, true_positive_rate, thresholds = roc_curve(Y_train, Y_pred_train)\n",
    "    roc_auc = auc(false_positive_rate, true_positive_rate)\n",
    "    # Add auc score to previous train results\n",
    "    train_results.append(roc_auc)\n",
    "    \n",
    "    false_positive_rate, true_positive_rate, thresholds = roc_curve(Y_test, Y_pred_test)\n",
    "    roc_auc = auc(false_positive_rate, true_positive_rate)\n",
    "    # Add auc score to previous test results\n",
    "    test_results.append(roc_auc)\n",
    "\n",
    "    auc_train.append(float(roc_auc_score(Y_train,Y_pred_prob_train[:,1])))\n",
    "    auc_test.append(float(roc_auc_score(Y_test,Y_pred_prob_test[:,1])))\n",
    "    #print(\"max_depth: \", max_depth, \", train: \", np.mean(auc_train), \", test:\", np.mean(auc_test),\"\\n\")\n",
    "\n",
    "line1, = plt.plot(max_depths, train_results, 'b', label='Train AUC')\n",
    "line2, = plt.plot(max_depths, test_results, 'r', label='Test AUC')\n",
    "plt.legend(handler_map={line1: HandlerLine2D(numpoints=2)})\n",
    "plt.ylabel('AUC score')\n",
    "plt.xlabel('Tree depth')\n",
    "plt.show()"
   ]
  },
  {
   "cell_type": "code",
   "execution_count": 186,
   "metadata": {},
   "outputs": [
    {
     "data": {
      "image/png": "[encoded data removed]",
      "text/plain": [
       "<Figure size 432x288 with 1 Axes>"
      ]
     },
     "metadata": {
      "needs_background": "light"
     },
     "output_type": "display_data"
    }
   ],
   "source": [
    "from sklearn.model_selection import KFold\n",
    "from sklearn.metrics import roc_curve, auc, roc_auc_score\n",
    "from matplotlib.legend_handler import HandlerLine2D\n",
    "\n",
    "kFold = KFold(n_splits=5)\n",
    "\n",
    "min_samples_splits = np.linspace(0.1, 1.0, 50, endpoint=True)\n",
    "\n",
    "auc_test =[]\n",
    "auc_train = []\n",
    "train_results = []\n",
    "test_results = []\n",
    "\n",
    "for min_samples_split in min_samples_splits:\n",
    "    for train_index, test_index in kFold.split(X):\n",
    "        X_train, X_test = X[train_index], X[test_index]\n",
    "        Y_train, Y_test = y[train_index], y[test_index]\n",
    "        dtree=DecisionTreeClassifier(min_samples_split=min_samples_split)\n",
    "        dtree.fit(X_train, Y_train)\n",
    "        Y_pred_train = dtree.predict(X_train)\n",
    "        Y_pred_test = dtree.predict(X_test)\n",
    "        Y_pred_prob_train = dtree.predict_proba(X_train)\n",
    "        Y_pred_prob_test = dtree.predict_proba(X_test)\n",
    "        \n",
    "    false_positive_rate, true_positive_rate, thresholds = roc_curve(Y_train, Y_pred_train)\n",
    "    roc_auc = auc(false_positive_rate, true_positive_rate)\n",
    "    # Add auc score to previous train results\n",
    "    train_results.append(roc_auc)\n",
    "    \n",
    "    false_positive_rate, true_positive_rate, thresholds = roc_curve(Y_test, Y_pred_test)\n",
    "    roc_auc = auc(false_positive_rate, true_positive_rate)\n",
    "    # Add auc score to previous test results\n",
    "    test_results.append(roc_auc)\n",
    "\n",
    "    auc_train.append(float(roc_auc_score(Y_train,Y_pred_prob_train[:,1])))\n",
    "    auc_test.append(float(roc_auc_score(Y_test,Y_pred_prob_test[:,1])))\n",
    "    #print(\"max_depth: \", max_depth, \", train: \", np.mean(auc_train), \", test:\", np.mean(auc_test),\"\\n\")\n",
    "\n",
    "\n",
    "line1, = plt.plot(min_samples_splits, train_results, 'b', label='Train AUC')\n",
    "line2, = plt.plot(min_samples_splits, test_results, 'r', label='Test AUC')\n",
    "plt.legend(handler_map={line1: HandlerLine2D(numpoints=2)})\n",
    "plt.ylabel('AUC score')\n",
    "plt.xlabel('min samples split')\n",
    "plt.show()"
   ]
  },
  {
   "cell_type": "code",
   "execution_count": 187,
   "metadata": {},
   "outputs": [
    {
     "data": {
      "image/png": "[encoded data removed]",
      "text/plain": [
       "<Figure size 432x288 with 1 Axes>"
      ]
     },
     "metadata": {
      "needs_background": "light"
     },
     "output_type": "display_data"
    }
   ],
   "source": [
    "from sklearn.model_selection import KFold\n",
    "from sklearn.metrics import roc_curve, auc, roc_auc_score\n",
    "from matplotlib.legend_handler import HandlerLine2D\n",
    "\n",
    "kFold = KFold(n_splits=5)\n",
    "\n",
    "min_samples_splits = np.linspace(2, 100, 99, endpoint=True)\n",
    "\n",
    "auc_test =[]\n",
    "auc_train = []\n",
    "train_results = []\n",
    "test_results = []\n",
    "\n",
    "for min_samples_split in min_samples_splits:\n",
    "    for train_index, test_index in kFold.split(X):\n",
    "        X_train, X_test = X[train_index], X[test_index]\n",
    "        Y_train, Y_test = y[train_index], y[test_index]\n",
    "        dtree=DecisionTreeClassifier(min_samples_split=int(min_samples_split))\n",
    "        dtree.fit(X_train, Y_train)\n",
    "        Y_pred_train = dtree.predict(X_train)\n",
    "        Y_pred_test = dtree.predict(X_test)\n",
    "        Y_pred_prob_train = dtree.predict_proba(X_train)\n",
    "        Y_pred_prob_test = dtree.predict_proba(X_test)\n",
    "        \n",
    "    false_positive_rate, true_positive_rate, thresholds = roc_curve(Y_train, Y_pred_train)\n",
    "    roc_auc = auc(false_positive_rate, true_positive_rate)\n",
    "    # Add auc score to previous train results\n",
    "    train_results.append(roc_auc)\n",
    "    \n",
    "    false_positive_rate, true_positive_rate, thresholds = roc_curve(Y_test, Y_pred_test)\n",
    "    roc_auc = auc(false_positive_rate, true_positive_rate)\n",
    "    # Add auc score to previous test results\n",
    "    test_results.append(roc_auc)\n",
    "\n",
    "    auc_train.append(float(roc_auc_score(Y_train,Y_pred_prob_train[:,1])))\n",
    "    auc_test.append(float(roc_auc_score(Y_test,Y_pred_prob_test[:,1])))\n",
    "    #print(\"max_depth: \", max_depth, \", train: \", np.mean(auc_train), \", test:\", np.mean(auc_test),\"\\n\")\n",
    "\n",
    "\n",
    "line1, = plt.plot(min_samples_splits, train_results, 'b', label='Train AUC')\n",
    "line2, = plt.plot(min_samples_splits, test_results, 'r', label='Test AUC')\n",
    "plt.legend(handler_map={line1: HandlerLine2D(numpoints=2)})\n",
    "plt.ylabel('AUC score')\n",
    "plt.xlabel('min samples split')\n",
    "plt.show()"
   ]
  },
  {
   "cell_type": "code",
   "execution_count": 479,
   "metadata": {},
   "outputs": [
    {
     "data": {
      "image/png": "[encoded data removed]",
      "text/plain": [
       "<Figure size 432x288 with 1 Axes>"
      ]
     },
     "metadata": {
      "needs_background": "light"
     },
     "output_type": "display_data"
    }
   ],
   "source": [
    "from sklearn.model_selection import KFold\n",
    "from sklearn.metrics import roc_curve, auc, roc_auc_score\n",
    "from matplotlib.legend_handler import HandlerLine2D\n",
    "\n",
    "kFold = KFold(n_splits=5)\n",
    "\n",
    "min_samples_leafs = np.linspace(0.1, 0.5, 5, endpoint=True)\n",
    "\n",
    "auc_test =[]\n",
    "auc_train = []\n",
    "train_results = []\n",
    "test_results = []\n",
    "\n",
    "for min_samples_leaf in min_samples_leafs:\n",
    "    for train_index, test_index in kFold.split(X):\n",
    "        X_train, X_test = X[train_index], X[test_index]\n",
    "        Y_train, Y_test = y[train_index], y[test_index]\n",
    "        dtree=DecisionTreeClassifier(min_samples_leaf=min_samples_leaf)\n",
    "        dtree.fit(X_train, Y_train)\n",
    "        Y_pred_train = dtree.predict(X_train)\n",
    "        Y_pred_test = dtree.predict(X_test)\n",
    "        Y_pred_prob_train = dtree.predict_proba(X_train)\n",
    "        Y_pred_prob_test = dtree.predict_proba(X_test)\n",
    "        \n",
    "    false_positive_rate, true_positive_rate, thresholds = roc_curve(Y_train, Y_pred_train)\n",
    "    roc_auc = auc(false_positive_rate, true_positive_rate)\n",
    "    # Add auc score to previous train results\n",
    "    train_results.append(roc_auc)\n",
    "    \n",
    "    false_positive_rate, true_positive_rate, thresholds = roc_curve(Y_test, Y_pred_test)\n",
    "    roc_auc = auc(false_positive_rate, true_positive_rate)\n",
    "    # Add auc score to previous test results\n",
    "    test_results.append(roc_auc)\n",
    "\n",
    "    auc_train.append(float(roc_auc_score(Y_train,Y_pred_prob_train[:,1])))\n",
    "    auc_test.append(float(roc_auc_score(Y_test,Y_pred_prob_test[:,1])))\n",
    "    #print(\"max_depth: \", max_depth, \", train: \", np.mean(auc_train), \", test:\", np.mean(auc_test),\"\\n\")\n",
    "\n",
    "\n",
    "line1, = plt.plot(min_samples_leafs, train_results, 'b', label='Train AUC')\n",
    "line2, = plt.plot(min_samples_leafs, test_results, 'r', label='Test AUC')\n",
    "plt.legend(handler_map={line1: HandlerLine2D(numpoints=2)})\n",
    "plt.ylabel('AUC score')\n",
    "plt.xlabel('min_samples_leaf')\n",
    "plt.show()"
   ]
  },
  {
   "cell_type": "code",
   "execution_count": 483,
   "metadata": {},
   "outputs": [
    {
     "data": {
      "image/png": "[encoded data removed]",
      "text/plain": [
       "<Figure size 432x288 with 1 Axes>"
      ]
     },
     "metadata": {
      "needs_background": "light"
     },
     "output_type": "display_data"
    }
   ],
   "source": [
    "from sklearn.model_selection import KFold\n",
    "from sklearn.metrics import roc_curve, auc, roc_auc_score\n",
    "from matplotlib.legend_handler import HandlerLine2D\n",
    "\n",
    "kFold = KFold(n_splits=5)\n",
    "\n",
    "min_samples_leafs = np.linspace(1, 50, 50, endpoint=True)\n",
    "\n",
    "auc_test =[]\n",
    "auc_train = []\n",
    "train_results = []\n",
    "test_results = []\n",
    "\n",
    "for min_samples_leaf in min_samples_leafs:\n",
    "    for train_index, test_index in kFold.split(X):\n",
    "        X_train, X_test = X[train_index], X[test_index]\n",
    "        Y_train, Y_test = y[train_index], y[test_index]\n",
    "        dtree=DecisionTreeClassifier(min_samples_leaf=int(min_samples_leaf))\n",
    "        dtree.fit(X_train, Y_train)\n",
    "        Y_pred_train = dtree.predict(X_train)\n",
    "        Y_pred_test = dtree.predict(X_test)\n",
    "        Y_pred_prob_train = dtree.predict_proba(X_train)\n",
    "        Y_pred_prob_test = dtree.predict_proba(X_test)\n",
    "        \n",
    "    false_positive_rate, true_positive_rate, thresholds = roc_curve(Y_train, Y_pred_train)\n",
    "    roc_auc = auc(false_positive_rate, true_positive_rate)\n",
    "    # Add auc score to previous train results\n",
    "    train_results.append(roc_auc)\n",
    "    \n",
    "    false_positive_rate, true_positive_rate, thresholds = roc_curve(Y_test, Y_pred_test)\n",
    "    roc_auc = auc(false_positive_rate, true_positive_rate)\n",
    "    # Add auc score to previous test results\n",
    "    test_results.append(roc_auc)\n",
    "\n",
    "    auc_train.append(float(roc_auc_score(Y_train,Y_pred_prob_train[:,1])))\n",
    "    auc_test.append(float(roc_auc_score(Y_test,Y_pred_prob_test[:,1])))\n",
    "    #print(\"max_depth: \", max_depth, \", train: \", np.mean(auc_train), \", test:\", np.mean(auc_test),\"\\n\")\n",
    "\n",
    "\n",
    "line1, = plt.plot(min_samples_leafs, train_results, 'b', label='Train AUC')\n",
    "line2, = plt.plot(min_samples_leafs, test_results, 'r', label='Test AUC')\n",
    "plt.legend(handler_map={line1: HandlerLine2D(numpoints=2)})\n",
    "plt.ylabel('AUC score')\n",
    "plt.xlabel('min_samples_leaf')\n",
    "plt.show()"
   ]
  },
  {
   "cell_type": "code",
   "execution_count": 191,
   "metadata": {},
   "outputs": [
    {
     "ename": "ValueError",
     "evalue": "max_features must be in (0, n_features]",
     "output_type": "error",
     "traceback": [
      "\u001b[1;31m---------------------------------------------------------------------------\u001b[0m",
      "\u001b[1;31mValueError\u001b[0m                                Traceback (most recent call last)",
      "\u001b[1;32m<ipython-input-191-d5041f29266a>\u001b[0m in \u001b[0;36m<module>\u001b[1;34m()\u001b[0m\n\u001b[0;32m     17\u001b[0m         \u001b[0mY_train\u001b[0m\u001b[1;33m,\u001b[0m \u001b[0mY_test\u001b[0m \u001b[1;33m=\u001b[0m \u001b[0my\u001b[0m\u001b[1;33m[\u001b[0m\u001b[0mtrain_index\u001b[0m\u001b[1;33m]\u001b[0m\u001b[1;33m,\u001b[0m \u001b[0my\u001b[0m\u001b[1;33m[\u001b[0m\u001b[0mtest_index\u001b[0m\u001b[1;33m]\u001b[0m\u001b[1;33m\u001b[0m\u001b[0m\n\u001b[0;32m     18\u001b[0m         \u001b[0mdtree\u001b[0m\u001b[1;33m=\u001b[0m\u001b[0mDecisionTreeClassifier\u001b[0m\u001b[1;33m(\u001b[0m \u001b[0mcriterion\u001b[0m\u001b[1;33m=\u001b[0m\u001b[1;34m'entropy'\u001b[0m\u001b[1;33m,\u001b[0m \u001b[0msplitter\u001b[0m\u001b[1;33m=\u001b[0m\u001b[1;34m'best'\u001b[0m\u001b[1;33m,\u001b[0m \u001b[0mmax_features\u001b[0m\u001b[1;33m=\u001b[0m\u001b[0mint\u001b[0m\u001b[1;33m(\u001b[0m\u001b[0mmax_feature\u001b[0m\u001b[1;33m)\u001b[0m\u001b[1;33m)\u001b[0m\u001b[1;33m\u001b[0m\u001b[0m\n\u001b[1;32m---> 19\u001b[1;33m         \u001b[0mdtree\u001b[0m\u001b[1;33m.\u001b[0m\u001b[0mfit\u001b[0m\u001b[1;33m(\u001b[0m\u001b[0mX_train\u001b[0m\u001b[1;33m,\u001b[0m \u001b[0mY_train\u001b[0m\u001b[1;33m)\u001b[0m\u001b[1;33m\u001b[0m\u001b[0m\n\u001b[0m\u001b[0;32m     20\u001b[0m         \u001b[0mY_pred_train\u001b[0m \u001b[1;33m=\u001b[0m \u001b[0mdtree\u001b[0m\u001b[1;33m.\u001b[0m\u001b[0mpredict\u001b[0m\u001b[1;33m(\u001b[0m\u001b[0mX_train\u001b[0m\u001b[1;33m)\u001b[0m\u001b[1;33m\u001b[0m\u001b[0m\n\u001b[0;32m     21\u001b[0m         \u001b[0mY_pred_test\u001b[0m \u001b[1;33m=\u001b[0m \u001b[0mdtree\u001b[0m\u001b[1;33m.\u001b[0m\u001b[0mpredict\u001b[0m\u001b[1;33m(\u001b[0m\u001b[0mX_test\u001b[0m\u001b[1;33m)\u001b[0m\u001b[1;33m\u001b[0m\u001b[0m\n",
      "\u001b[1;32m~\\Anaconda3\\lib\\site-packages\\sklearn\\tree\\tree.py\u001b[0m in \u001b[0;36mfit\u001b[1;34m(self, X, y, sample_weight, check_input, X_idx_sorted)\u001b[0m\n\u001b[0;32m    788\u001b[0m             \u001b[0msample_weight\u001b[0m\u001b[1;33m=\u001b[0m\u001b[0msample_weight\u001b[0m\u001b[1;33m,\u001b[0m\u001b[1;33m\u001b[0m\u001b[0m\n\u001b[0;32m    789\u001b[0m             \u001b[0mcheck_input\u001b[0m\u001b[1;33m=\u001b[0m\u001b[0mcheck_input\u001b[0m\u001b[1;33m,\u001b[0m\u001b[1;33m\u001b[0m\u001b[0m\n\u001b[1;32m--> 790\u001b[1;33m             X_idx_sorted=X_idx_sorted)\n\u001b[0m\u001b[0;32m    791\u001b[0m         \u001b[1;32mreturn\u001b[0m \u001b[0mself\u001b[0m\u001b[1;33m\u001b[0m\u001b[0m\n\u001b[0;32m    792\u001b[0m \u001b[1;33m\u001b[0m\u001b[0m\n",
      "\u001b[1;32m~\\Anaconda3\\lib\\site-packages\\sklearn\\tree\\tree.py\u001b[0m in \u001b[0;36mfit\u001b[1;34m(self, X, y, sample_weight, check_input, X_idx_sorted)\u001b[0m\n\u001b[0;32m    240\u001b[0m             \u001b[1;32mraise\u001b[0m \u001b[0mValueError\u001b[0m\u001b[1;33m(\u001b[0m\u001b[1;34m\"max_depth must be greater than zero. \"\u001b[0m\u001b[1;33m)\u001b[0m\u001b[1;33m\u001b[0m\u001b[0m\n\u001b[0;32m    241\u001b[0m         \u001b[1;32mif\u001b[0m \u001b[1;32mnot\u001b[0m \u001b[1;33m(\u001b[0m\u001b[1;36m0\u001b[0m \u001b[1;33m<\u001b[0m \u001b[0mmax_features\u001b[0m \u001b[1;33m<=\u001b[0m \u001b[0mself\u001b[0m\u001b[1;33m.\u001b[0m\u001b[0mn_features_\u001b[0m\u001b[1;33m)\u001b[0m\u001b[1;33m:\u001b[0m\u001b[1;33m\u001b[0m\u001b[0m\n\u001b[1;32m--> 242\u001b[1;33m             \u001b[1;32mraise\u001b[0m \u001b[0mValueError\u001b[0m\u001b[1;33m(\u001b[0m\u001b[1;34m\"max_features must be in (0, n_features]\"\u001b[0m\u001b[1;33m)\u001b[0m\u001b[1;33m\u001b[0m\u001b[0m\n\u001b[0m\u001b[0;32m    243\u001b[0m         \u001b[1;32mif\u001b[0m \u001b[1;32mnot\u001b[0m \u001b[0misinstance\u001b[0m\u001b[1;33m(\u001b[0m\u001b[0mmax_leaf_nodes\u001b[0m\u001b[1;33m,\u001b[0m \u001b[1;33m(\u001b[0m\u001b[0mnumbers\u001b[0m\u001b[1;33m.\u001b[0m\u001b[0mIntegral\u001b[0m\u001b[1;33m,\u001b[0m \u001b[0mnp\u001b[0m\u001b[1;33m.\u001b[0m\u001b[0minteger\u001b[0m\u001b[1;33m)\u001b[0m\u001b[1;33m)\u001b[0m\u001b[1;33m:\u001b[0m\u001b[1;33m\u001b[0m\u001b[0m\n\u001b[0;32m    244\u001b[0m             raise ValueError(\"max_leaf_nodes must be integral number but was \"\n",
      "\u001b[1;31mValueError\u001b[0m: max_features must be in (0, n_features]"
     ]
    }
   ],
   "source": [
    "from sklearn.model_selection import KFold\n",
    "from sklearn.metrics import roc_curve, auc, roc_auc_score\n",
    "from matplotlib.legend_handler import HandlerLine2D\n",
    "\n",
    "kFold = KFold(n_splits=5)\n",
    "\n",
    "max_features = np.linspace(1, 12, 12, endpoint=True)\n",
    "\n",
    "auc_test =[]\n",
    "auc_train = []\n",
    "train_results = []\n",
    "test_results = []\n",
    "\n",
    "for max_feature in max_features:\n",
    "    for train_index, test_index in kFold.split(X):\n",
    "        X_train, X_test = X[train_index], X[test_index]\n",
    "        Y_train, Y_test = y[train_index], y[test_index]\n",
    "        dtree=DecisionTreeClassifier( criterion='entropy', splitter='best', max_features=int(max_feature))\n",
    "        dtree.fit(X_train, Y_train)\n",
    "        Y_pred_train = dtree.predict(X_train)\n",
    "        Y_pred_test = dtree.predict(X_test)\n",
    "        Y_pred_prob_train = dtree.predict_proba(X_train)\n",
    "        Y_pred_prob_test = dtree.predict_proba(X_test)\n",
    "        \n",
    "    false_positive_rate, true_positive_rate, thresholds = roc_curve(Y_train, Y_pred_train)\n",
    "    roc_auc = auc(false_positive_rate, true_positive_rate)\n",
    "    # Add auc score to previous train results\n",
    "    train_results.append(roc_auc)\n",
    "    \n",
    "    false_positive_rate, true_positive_rate, thresholds = roc_curve(Y_test, Y_pred_test)\n",
    "    roc_auc = auc(false_positive_rate, true_positive_rate)\n",
    "    # Add auc score to previous test results\n",
    "    test_results.append(roc_auc)\n",
    "\n",
    "    auc_train.append(float(roc_auc_score(Y_train,Y_pred_prob_train[:,1])))\n",
    "    auc_test.append(float(roc_auc_score(Y_test,Y_pred_prob_test[:,1])))\n",
    "    #print(\"max_depth: \", max_depth, \", train: \", np.mean(auc_train), \", test:\", np.mean(auc_test),\"\\n\")\n",
    "\n",
    "line1, = plt.plot(max_features, train_results, 'b', label='Train AUC')\n",
    "line2, = plt.plot(max_features, test_results, 'r', label='Test AUC')\n",
    "plt.legend(handler_map={line1: HandlerLine2D(numpoints=2)})\n",
    "plt.ylabel('AUC score')\n",
    "plt.xlabel('Max features')\n",
    "plt.show()"
   ]
  },
  {
   "cell_type": "code",
   "execution_count": 256,
   "metadata": {},
   "outputs": [
    {
     "data": {
      "text/plain": [
       "array([0.        , 0.01740372, 0.1137421 , 0.        , 0.01584043,\n",
       "       0.        , 0.        , 0.        , 0.        , 0.        ,\n",
       "       0.47595824, 0.22935988, 0.14769563])"
      ]
     },
     "execution_count": 256,
     "metadata": {},
     "output_type": "execute_result"
    }
   ],
   "source": [
    "dtree.feature_importances_"
   ]
  },
  {
   "cell_type": "code",
   "execution_count": 261,
   "metadata": {},
   "outputs": [],
   "source": [
    "from sklearn.tree import DecisionTreeClassifier, export_graphviz\n",
    "from sklearn import tree\n",
    "from sklearn.datasets import load_wine\n",
    "from IPython.display import SVG, Image\n",
    "from graphviz import Source\n",
    "from IPython.display import display\n",
    "import os\n",
    "os.environ[\"PATH\"] += os.pathsep + 'C:/Use/spedrogabriel/Anaconda3/Lib/site-packages/graphviz'"
   ]
  },
  {
   "cell_type": "code",
   "execution_count": 262,
   "metadata": {},
   "outputs": [],
   "source": [
    "graph = Source(tree.export_graphviz(dtree, out_file=None\n",
    "   , feature_names=(\"renda\", \"media_gastos\", \"valor_compra\", \"categoria_compra_1\", \n",
    "                    \"categoria_compra_2\", \"categoria_compra_3\", \"categoria_compra_4\", \"categoria_compra_5\", \n",
    "                    \"categoria_compra_6\", \"horario_compra\", \"compra_parcelada\", \"uso_cartao_virtual\", \"primeira_compra\"), class_names=['normal', 'fraude'] \n",
    "   , filled = True))"
   ]
  },
  {
   "cell_type": "code",
   "execution_count": 263,
   "metadata": {},
   "outputs": [
    {
     "data": {
      "image/svg+xml": [
       "<svg height=\"671pt\" viewBox=\"0.00 0.00 850.00 671.00\" width=\"850pt\" xmlns=\"http://www.w3.org/2000/svg\" xmlns:xlink=\"http://www.w3.org/1999/xlink\">\n",
       "<g class=\"graph\" id=\"graph0\" transform=\"scale(1 1) rotate(0) translate(4 667)\">\n",
       "<title>Tree</title>\n",
       "<polygon fill=\"white\" points=\"-4,4 -4,-667 846,-667 846,4 -4,4\" stroke=\"none\"/>\n",
       "<!-- 0 -->\n",
       "<g class=\"node\" id=\"node1\"><title>0</title>\n",
       "<polygon fill=\"none\" points=\"646,-663 485,-663 485,-580 646,-580 646,-663\" stroke=\"black\"/>\n",
       "<text font-family=\"Times New Roman,serif\" font-size=\"14.00\" text-anchor=\"middle\" x=\"565.5\" y=\"-647.8\">compra_parcelada &lt;= 0.5</text>\n",
       "<text font-family=\"Times New Roman,serif\" font-size=\"14.00\" text-anchor=\"middle\" x=\"565.5\" y=\"-632.8\">gini = 0.5</text>\n",
       "<text font-family=\"Times New Roman,serif\" font-size=\"14.00\" text-anchor=\"middle\" x=\"565.5\" y=\"-617.8\">samples = 10000</text>\n",
       "<text font-family=\"Times New Roman,serif\" font-size=\"14.00\" text-anchor=\"middle\" x=\"565.5\" y=\"-602.8\">value = [5000, 5000]</text>\n",
       "<text font-family=\"Times New Roman,serif\" font-size=\"14.00\" text-anchor=\"middle\" x=\"565.5\" y=\"-587.8\">class = normal</text>\n",
       "</g>\n",
       "<!-- 1 -->\n",
       "<g class=\"node\" id=\"node2\"><title>1</title>\n",
       "<polygon fill=\"#399de5\" fill-opacity=\"0.419608\" points=\"569,-544 408,-544 408,-461 569,-461 569,-544\" stroke=\"black\"/>\n",
       "<text font-family=\"Times New Roman,serif\" font-size=\"14.00\" text-anchor=\"middle\" x=\"488.5\" y=\"-528.8\">uso_cartao_virtual &lt;= 0.5</text>\n",
       "<text font-family=\"Times New Roman,serif\" font-size=\"14.00\" text-anchor=\"middle\" x=\"488.5\" y=\"-513.8\">gini = 0.465</text>\n",
       "<text font-family=\"Times New Roman,serif\" font-size=\"14.00\" text-anchor=\"middle\" x=\"488.5\" y=\"-498.8\">samples = 7906</text>\n",
       "<text font-family=\"Times New Roman,serif\" font-size=\"14.00\" text-anchor=\"middle\" x=\"488.5\" y=\"-483.8\">value = [2906, 5000]</text>\n",
       "<text font-family=\"Times New Roman,serif\" font-size=\"14.00\" text-anchor=\"middle\" x=\"488.5\" y=\"-468.8\">class = fraude</text>\n",
       "</g>\n",
       "<!-- 0&#45;&gt;1 -->\n",
       "<g class=\"edge\" id=\"edge1\"><title>0-&gt;1</title>\n",
       "<path d=\"M538.785,-579.907C532.992,-571.105 526.805,-561.703 520.822,-552.612\" fill=\"none\" stroke=\"black\"/>\n",
       "<polygon fill=\"black\" points=\"523.589,-550.45 515.168,-544.021 517.741,-554.298 523.589,-550.45\" stroke=\"black\"/>\n",
       "<text font-family=\"Times New Roman,serif\" font-size=\"14.00\" text-anchor=\"middle\" x=\"510.119\" y=\"-564.806\">True</text>\n",
       "</g>\n",
       "<!-- 16 -->\n",
       "<g class=\"node\" id=\"node17\"><title>16</title>\n",
       "<polygon fill=\"#e58139\" points=\"698,-536.5 587,-536.5 587,-468.5 698,-468.5 698,-536.5\" stroke=\"black\"/>\n",
       "<text font-family=\"Times New Roman,serif\" font-size=\"14.00\" text-anchor=\"middle\" x=\"642.5\" y=\"-521.3\">gini = 0.0</text>\n",
       "<text font-family=\"Times New Roman,serif\" font-size=\"14.00\" text-anchor=\"middle\" x=\"642.5\" y=\"-506.3\">samples = 2094</text>\n",
       "<text font-family=\"Times New Roman,serif\" font-size=\"14.00\" text-anchor=\"middle\" x=\"642.5\" y=\"-491.3\">value = [2094, 0]</text>\n",
       "<text font-family=\"Times New Roman,serif\" font-size=\"14.00\" text-anchor=\"middle\" x=\"642.5\" y=\"-476.3\">class = normal</text>\n",
       "</g>\n",
       "<!-- 0&#45;&gt;16 -->\n",
       "<g class=\"edge\" id=\"edge16\"><title>0-&gt;16</title>\n",
       "<path d=\"M592.215,-579.907C599.622,-568.652 607.673,-556.418 615.118,-545.106\" fill=\"none\" stroke=\"black\"/>\n",
       "<polygon fill=\"black\" points=\"618.098,-546.944 620.672,-536.667 612.251,-543.096 618.098,-546.944\" stroke=\"black\"/>\n",
       "<text font-family=\"Times New Roman,serif\" font-size=\"14.00\" text-anchor=\"middle\" x=\"625.721\" y=\"-557.452\">False</text>\n",
       "</g>\n",
       "<!-- 2 -->\n",
       "<g class=\"node\" id=\"node3\"><title>2</title>\n",
       "<polygon fill=\"#399de5\" fill-opacity=\"0.572549\" points=\"492,-425 339,-425 339,-342 492,-342 492,-425\" stroke=\"black\"/>\n",
       "<text font-family=\"Times New Roman,serif\" font-size=\"14.00\" text-anchor=\"middle\" x=\"415.5\" y=\"-409.8\">primeira_compra &lt;= 0.5</text>\n",
       "<text font-family=\"Times New Roman,serif\" font-size=\"14.00\" text-anchor=\"middle\" x=\"415.5\" y=\"-394.8\">gini = 0.42</text>\n",
       "<text font-family=\"Times New Roman,serif\" font-size=\"14.00\" text-anchor=\"middle\" x=\"415.5\" y=\"-379.8\">samples = 7144</text>\n",
       "<text font-family=\"Times New Roman,serif\" font-size=\"14.00\" text-anchor=\"middle\" x=\"415.5\" y=\"-364.8\">value = [2144, 5000]</text>\n",
       "<text font-family=\"Times New Roman,serif\" font-size=\"14.00\" text-anchor=\"middle\" x=\"415.5\" y=\"-349.8\">class = fraude</text>\n",
       "</g>\n",
       "<!-- 1&#45;&gt;2 -->\n",
       "<g class=\"edge\" id=\"edge2\"><title>1-&gt;2</title>\n",
       "<path d=\"M463.173,-460.907C457.681,-452.105 451.815,-442.703 446.143,-433.612\" fill=\"none\" stroke=\"black\"/>\n",
       "<polygon fill=\"black\" points=\"449.045,-431.652 440.782,-425.021 443.106,-435.358 449.045,-431.652\" stroke=\"black\"/>\n",
       "</g>\n",
       "<!-- 15 -->\n",
       "<g class=\"node\" id=\"node16\"><title>15</title>\n",
       "<polygon fill=\"#e58139\" points=\"614.5,-417.5 510.5,-417.5 510.5,-349.5 614.5,-349.5 614.5,-417.5\" stroke=\"black\"/>\n",
       "<text font-family=\"Times New Roman,serif\" font-size=\"14.00\" text-anchor=\"middle\" x=\"562.5\" y=\"-402.3\">gini = 0.0</text>\n",
       "<text font-family=\"Times New Roman,serif\" font-size=\"14.00\" text-anchor=\"middle\" x=\"562.5\" y=\"-387.3\">samples = 762</text>\n",
       "<text font-family=\"Times New Roman,serif\" font-size=\"14.00\" text-anchor=\"middle\" x=\"562.5\" y=\"-372.3\">value = [762, 0]</text>\n",
       "<text font-family=\"Times New Roman,serif\" font-size=\"14.00\" text-anchor=\"middle\" x=\"562.5\" y=\"-357.3\">class = normal</text>\n",
       "</g>\n",
       "<!-- 1&#45;&gt;15 -->\n",
       "<g class=\"edge\" id=\"edge15\"><title>1-&gt;15</title>\n",
       "<path d=\"M514.174,-460.907C521.223,-449.763 528.879,-437.658 535.974,-426.439\" fill=\"none\" stroke=\"black\"/>\n",
       "<polygon fill=\"black\" points=\"539.135,-427.989 541.523,-417.667 533.219,-424.248 539.135,-427.989\" stroke=\"black\"/>\n",
       "</g>\n",
       "<!-- 3 -->\n",
       "<g class=\"node\" id=\"node4\"><title>3</title>\n",
       "<polygon fill=\"#e58139\" fill-opacity=\"0.027451\" points=\"408,-306 245,-306 245,-223 408,-223 408,-306\" stroke=\"black\"/>\n",
       "<text font-family=\"Times New Roman,serif\" font-size=\"14.00\" text-anchor=\"middle\" x=\"326.5\" y=\"-290.8\">valor_compra &lt;= 747.224</text>\n",
       "<text font-family=\"Times New Roman,serif\" font-size=\"14.00\" text-anchor=\"middle\" x=\"326.5\" y=\"-275.8\">gini = 0.5</text>\n",
       "<text font-family=\"Times New Roman,serif\" font-size=\"14.00\" text-anchor=\"middle\" x=\"326.5\" y=\"-260.8\">samples = 3018</text>\n",
       "<text font-family=\"Times New Roman,serif\" font-size=\"14.00\" text-anchor=\"middle\" x=\"326.5\" y=\"-245.8\">value = [1530, 1488]</text>\n",
       "<text font-family=\"Times New Roman,serif\" font-size=\"14.00\" text-anchor=\"middle\" x=\"326.5\" y=\"-230.8\">class = normal</text>\n",
       "</g>\n",
       "<!-- 2&#45;&gt;3 -->\n",
       "<g class=\"edge\" id=\"edge3\"><title>2-&gt;3</title>\n",
       "<path d=\"M384.622,-341.907C377.788,-332.923 370.479,-323.315 363.431,-314.05\" fill=\"none\" stroke=\"black\"/>\n",
       "<polygon fill=\"black\" points=\"366.164,-311.861 357.324,-306.021 360.592,-316.099 366.164,-311.861\" stroke=\"black\"/>\n",
       "</g>\n",
       "<!-- 8 -->\n",
       "<g class=\"node\" id=\"node9\"><title>8</title>\n",
       "<polygon fill=\"#399de5\" fill-opacity=\"0.823529\" points=\"582.5,-306 426.5,-306 426.5,-223 582.5,-223 582.5,-306\" stroke=\"black\"/>\n",
       "<text font-family=\"Times New Roman,serif\" font-size=\"14.00\" text-anchor=\"middle\" x=\"504.5\" y=\"-290.8\">valor_compra &lt;= 719.51</text>\n",
       "<text font-family=\"Times New Roman,serif\" font-size=\"14.00\" text-anchor=\"middle\" x=\"504.5\" y=\"-275.8\">gini = 0.253</text>\n",
       "<text font-family=\"Times New Roman,serif\" font-size=\"14.00\" text-anchor=\"middle\" x=\"504.5\" y=\"-260.8\">samples = 4126</text>\n",
       "<text font-family=\"Times New Roman,serif\" font-size=\"14.00\" text-anchor=\"middle\" x=\"504.5\" y=\"-245.8\">value = [614, 3512]</text>\n",
       "<text font-family=\"Times New Roman,serif\" font-size=\"14.00\" text-anchor=\"middle\" x=\"504.5\" y=\"-230.8\">class = fraude</text>\n",
       "</g>\n",
       "<!-- 2&#45;&gt;8 -->\n",
       "<g class=\"edge\" id=\"edge8\"><title>2-&gt;8</title>\n",
       "<path d=\"M446.378,-341.907C453.212,-332.923 460.521,-323.315 467.569,-314.05\" fill=\"none\" stroke=\"black\"/>\n",
       "<polygon fill=\"black\" points=\"470.408,-316.099 473.676,-306.021 464.836,-311.861 470.408,-316.099\" stroke=\"black\"/>\n",
       "</g>\n",
       "<!-- 4 -->\n",
       "<g class=\"node\" id=\"node5\"><title>4</title>\n",
       "<polygon fill=\"#e58139\" fill-opacity=\"0.364706\" points=\"256,-187 131,-187 131,-104 256,-104 256,-187\" stroke=\"black\"/>\n",
       "<text font-family=\"Times New Roman,serif\" font-size=\"14.00\" text-anchor=\"middle\" x=\"193.5\" y=\"-171.8\">renda &lt;= 2237.753</text>\n",
       "<text font-family=\"Times New Roman,serif\" font-size=\"14.00\" text-anchor=\"middle\" x=\"193.5\" y=\"-156.8\">gini = 0.475</text>\n",
       "<text font-family=\"Times New Roman,serif\" font-size=\"14.00\" text-anchor=\"middle\" x=\"193.5\" y=\"-141.8\">samples = 2291</text>\n",
       "<text font-family=\"Times New Roman,serif\" font-size=\"14.00\" text-anchor=\"middle\" x=\"193.5\" y=\"-126.8\">value = [1401, 890]</text>\n",
       "<text font-family=\"Times New Roman,serif\" font-size=\"14.00\" text-anchor=\"middle\" x=\"193.5\" y=\"-111.8\">class = normal</text>\n",
       "</g>\n",
       "<!-- 3&#45;&gt;4 -->\n",
       "<g class=\"edge\" id=\"edge4\"><title>3-&gt;4</title>\n",
       "<path d=\"M280.356,-222.907C269.628,-213.469 258.116,-203.343 247.097,-193.649\" fill=\"none\" stroke=\"black\"/>\n",
       "<polygon fill=\"black\" points=\"249.382,-190.998 239.562,-187.021 244.759,-196.254 249.382,-190.998\" stroke=\"black\"/>\n",
       "</g>\n",
       "<!-- 7 -->\n",
       "<g class=\"node\" id=\"node8\"><title>7</title>\n",
       "<polygon fill=\"#399de5\" fill-opacity=\"0.784314\" points=\"392.5,-179.5 274.5,-179.5 274.5,-111.5 392.5,-111.5 392.5,-179.5\" stroke=\"black\"/>\n",
       "<text font-family=\"Times New Roman,serif\" font-size=\"14.00\" text-anchor=\"middle\" x=\"333.5\" y=\"-164.3\">gini = 0.292</text>\n",
       "<text font-family=\"Times New Roman,serif\" font-size=\"14.00\" text-anchor=\"middle\" x=\"333.5\" y=\"-149.3\">samples = 727</text>\n",
       "<text font-family=\"Times New Roman,serif\" font-size=\"14.00\" text-anchor=\"middle\" x=\"333.5\" y=\"-134.3\">value = [129, 598]</text>\n",
       "<text font-family=\"Times New Roman,serif\" font-size=\"14.00\" text-anchor=\"middle\" x=\"333.5\" y=\"-119.3\">class = fraude</text>\n",
       "</g>\n",
       "<!-- 3&#45;&gt;7 -->\n",
       "<g class=\"edge\" id=\"edge7\"><title>3-&gt;7</title>\n",
       "<path d=\"M328.929,-222.907C329.569,-212.204 330.262,-200.615 330.911,-189.776\" fill=\"none\" stroke=\"black\"/>\n",
       "<polygon fill=\"black\" points=\"334.412,-189.858 331.516,-179.667 327.425,-189.44 334.412,-189.858\" stroke=\"black\"/>\n",
       "</g>\n",
       "<!-- 5 -->\n",
       "<g class=\"node\" id=\"node6\"><title>5</title>\n",
       "<polygon fill=\"#e58139\" fill-opacity=\"0.490196\" points=\"125,-68 0,-68 0,-0 125,-0 125,-68\" stroke=\"black\"/>\n",
       "<text font-family=\"Times New Roman,serif\" font-size=\"14.00\" text-anchor=\"middle\" x=\"62.5\" y=\"-52.8\">gini = 0.447</text>\n",
       "<text font-family=\"Times New Roman,serif\" font-size=\"14.00\" text-anchor=\"middle\" x=\"62.5\" y=\"-37.8\">samples = 1708</text>\n",
       "<text font-family=\"Times New Roman,serif\" font-size=\"14.00\" text-anchor=\"middle\" x=\"62.5\" y=\"-22.8\">value = [1131, 577]</text>\n",
       "<text font-family=\"Times New Roman,serif\" font-size=\"14.00\" text-anchor=\"middle\" x=\"62.5\" y=\"-7.8\">class = normal</text>\n",
       "</g>\n",
       "<!-- 4&#45;&gt;5 -->\n",
       "<g class=\"edge\" id=\"edge5\"><title>4-&gt;5</title>\n",
       "<path d=\"M144.72,-103.726C133.372,-94.2406 121.307,-84.1551 110.014,-74.7159\" fill=\"none\" stroke=\"black\"/>\n",
       "<polygon fill=\"black\" points=\"112.255,-72.0276 102.338,-68.2996 107.766,-77.3984 112.255,-72.0276\" stroke=\"black\"/>\n",
       "</g>\n",
       "<!-- 6 -->\n",
       "<g class=\"node\" id=\"node7\"><title>6</title>\n",
       "<polygon fill=\"#399de5\" fill-opacity=\"0.137255\" points=\"261.5,-68 143.5,-68 143.5,-0 261.5,-0 261.5,-68\" stroke=\"black\"/>\n",
       "<text font-family=\"Times New Roman,serif\" font-size=\"14.00\" text-anchor=\"middle\" x=\"202.5\" y=\"-52.8\">gini = 0.497</text>\n",
       "<text font-family=\"Times New Roman,serif\" font-size=\"14.00\" text-anchor=\"middle\" x=\"202.5\" y=\"-37.8\">samples = 583</text>\n",
       "<text font-family=\"Times New Roman,serif\" font-size=\"14.00\" text-anchor=\"middle\" x=\"202.5\" y=\"-22.8\">value = [270, 313]</text>\n",
       "<text font-family=\"Times New Roman,serif\" font-size=\"14.00\" text-anchor=\"middle\" x=\"202.5\" y=\"-7.8\">class = fraude</text>\n",
       "</g>\n",
       "<!-- 4&#45;&gt;6 -->\n",
       "<g class=\"edge\" id=\"edge6\"><title>4-&gt;6</title>\n",
       "<path d=\"M196.851,-103.726C197.533,-95.4263 198.253,-86.6671 198.942,-78.2834\" fill=\"none\" stroke=\"black\"/>\n",
       "<polygon fill=\"black\" points=\"202.432,-78.5527 199.763,-68.2996 195.456,-77.9793 202.432,-78.5527\" stroke=\"black\"/>\n",
       "</g>\n",
       "<!-- 9 -->\n",
       "<g class=\"node\" id=\"node10\"><title>9</title>\n",
       "<polygon fill=\"#399de5\" fill-opacity=\"0.717647\" points=\"588,-187 415,-187 415,-104 588,-104 588,-187\" stroke=\"black\"/>\n",
       "<text font-family=\"Times New Roman,serif\" font-size=\"14.00\" text-anchor=\"middle\" x=\"501.5\" y=\"-171.8\">categoria_compra_2 &lt;= 0.5</text>\n",
       "<text font-family=\"Times New Roman,serif\" font-size=\"14.00\" text-anchor=\"middle\" x=\"501.5\" y=\"-156.8\">gini = 0.345</text>\n",
       "<text font-family=\"Times New Roman,serif\" font-size=\"14.00\" text-anchor=\"middle\" x=\"501.5\" y=\"-141.8\">samples = 2536</text>\n",
       "<text font-family=\"Times New Roman,serif\" font-size=\"14.00\" text-anchor=\"middle\" x=\"501.5\" y=\"-126.8\">value = [561, 1975]</text>\n",
       "<text font-family=\"Times New Roman,serif\" font-size=\"14.00\" text-anchor=\"middle\" x=\"501.5\" y=\"-111.8\">class = fraude</text>\n",
       "</g>\n",
       "<!-- 8&#45;&gt;9 -->\n",
       "<g class=\"edge\" id=\"edge9\"><title>8-&gt;9</title>\n",
       "<path d=\"M503.459,-222.907C503.245,-214.558 503.017,-205.671 502.795,-197.02\" fill=\"none\" stroke=\"black\"/>\n",
       "<polygon fill=\"black\" points=\"506.294,-196.928 502.539,-187.021 499.297,-197.107 506.294,-196.928\" stroke=\"black\"/>\n",
       "</g>\n",
       "<!-- 12 -->\n",
       "<g class=\"node\" id=\"node13\"><title>12</title>\n",
       "<polygon fill=\"#399de5\" fill-opacity=\"0.964706\" points=\"724.5,-187 606.5,-187 606.5,-104 724.5,-104 724.5,-187\" stroke=\"black\"/>\n",
       "<text font-family=\"Times New Roman,serif\" font-size=\"14.00\" text-anchor=\"middle\" x=\"665.5\" y=\"-171.8\">renda &lt;= 2340.89</text>\n",
       "<text font-family=\"Times New Roman,serif\" font-size=\"14.00\" text-anchor=\"middle\" x=\"665.5\" y=\"-156.8\">gini = 0.064</text>\n",
       "<text font-family=\"Times New Roman,serif\" font-size=\"14.00\" text-anchor=\"middle\" x=\"665.5\" y=\"-141.8\">samples = 1590</text>\n",
       "<text font-family=\"Times New Roman,serif\" font-size=\"14.00\" text-anchor=\"middle\" x=\"665.5\" y=\"-126.8\">value = [53, 1537]</text>\n",
       "<text font-family=\"Times New Roman,serif\" font-size=\"14.00\" text-anchor=\"middle\" x=\"665.5\" y=\"-111.8\">class = fraude</text>\n",
       "</g>\n",
       "<!-- 8&#45;&gt;12 -->\n",
       "<g class=\"edge\" id=\"edge12\"><title>8-&gt;12</title>\n",
       "<path d=\"M560.358,-222.907C573.595,-213.288 587.816,-202.953 601.389,-193.09\" fill=\"none\" stroke=\"black\"/>\n",
       "<polygon fill=\"black\" points=\"603.709,-195.731 609.741,-187.021 599.593,-190.068 603.709,-195.731\" stroke=\"black\"/>\n",
       "</g>\n",
       "<!-- 10 -->\n",
       "<g class=\"node\" id=\"node11\"><title>10</title>\n",
       "<polygon fill=\"#399de5\" fill-opacity=\"0.643137\" points=\"438,-68 313,-68 313,-0 438,-0 438,-68\" stroke=\"black\"/>\n",
       "<text font-family=\"Times New Roman,serif\" font-size=\"14.00\" text-anchor=\"middle\" x=\"375.5\" y=\"-52.8\">gini = 0.388</text>\n",
       "<text font-family=\"Times New Roman,serif\" font-size=\"14.00\" text-anchor=\"middle\" x=\"375.5\" y=\"-37.8\">samples = 1983</text>\n",
       "<text font-family=\"Times New Roman,serif\" font-size=\"14.00\" text-anchor=\"middle\" x=\"375.5\" y=\"-22.8\">value = [523, 1460]</text>\n",
       "<text font-family=\"Times New Roman,serif\" font-size=\"14.00\" text-anchor=\"middle\" x=\"375.5\" y=\"-7.8\">class = fraude</text>\n",
       "</g>\n",
       "<!-- 9&#45;&gt;10 -->\n",
       "<g class=\"edge\" id=\"edge10\"><title>9-&gt;10</title>\n",
       "<path d=\"M454.582,-103.726C443.772,-94.3318 432.285,-84.349 421.514,-74.9883\" fill=\"none\" stroke=\"black\"/>\n",
       "<polygon fill=\"black\" points=\"423.661,-72.2174 413.817,-68.2996 419.07,-77.501 423.661,-72.2174\" stroke=\"black\"/>\n",
       "</g>\n",
       "<!-- 11 -->\n",
       "<g class=\"node\" id=\"node12\"><title>11</title>\n",
       "<polygon fill=\"#399de5\" fill-opacity=\"0.925490\" points=\"567,-68 456,-68 456,-0 567,-0 567,-68\" stroke=\"black\"/>\n",
       "<text font-family=\"Times New Roman,serif\" font-size=\"14.00\" text-anchor=\"middle\" x=\"511.5\" y=\"-52.8\">gini = 0.128</text>\n",
       "<text font-family=\"Times New Roman,serif\" font-size=\"14.00\" text-anchor=\"middle\" x=\"511.5\" y=\"-37.8\">samples = 553</text>\n",
       "<text font-family=\"Times New Roman,serif\" font-size=\"14.00\" text-anchor=\"middle\" x=\"511.5\" y=\"-22.8\">value = [38, 515]</text>\n",
       "<text font-family=\"Times New Roman,serif\" font-size=\"14.00\" text-anchor=\"middle\" x=\"511.5\" y=\"-7.8\">class = fraude</text>\n",
       "</g>\n",
       "<!-- 9&#45;&gt;11 -->\n",
       "<g class=\"edge\" id=\"edge11\"><title>9-&gt;11</title>\n",
       "<path d=\"M505.224,-103.726C505.982,-95.4263 506.782,-86.6671 507.547,-78.2834\" fill=\"none\" stroke=\"black\"/>\n",
       "<polygon fill=\"black\" points=\"511.035,-78.5765 508.459,-68.2996 504.064,-77.9398 511.035,-78.5765\" stroke=\"black\"/>\n",
       "</g>\n",
       "<!-- 13 -->\n",
       "<g class=\"node\" id=\"node14\"><title>13</title>\n",
       "<polygon fill=\"#399de5\" points=\"713,-68 602,-68 602,-0 713,-0 713,-68\" stroke=\"black\"/>\n",
       "<text font-family=\"Times New Roman,serif\" font-size=\"14.00\" text-anchor=\"middle\" x=\"657.5\" y=\"-52.8\">gini = 0.0</text>\n",
       "<text font-family=\"Times New Roman,serif\" font-size=\"14.00\" text-anchor=\"middle\" x=\"657.5\" y=\"-37.8\">samples = 1090</text>\n",
       "<text font-family=\"Times New Roman,serif\" font-size=\"14.00\" text-anchor=\"middle\" x=\"657.5\" y=\"-22.8\">value = [0, 1090]</text>\n",
       "<text font-family=\"Times New Roman,serif\" font-size=\"14.00\" text-anchor=\"middle\" x=\"657.5\" y=\"-7.8\">class = fraude</text>\n",
       "</g>\n",
       "<!-- 12&#45;&gt;13 -->\n",
       "<g class=\"edge\" id=\"edge13\"><title>12-&gt;13</title>\n",
       "<path d=\"M662.521,-103.726C661.915,-95.4263 661.275,-86.6671 660.662,-78.2834\" fill=\"none\" stroke=\"black\"/>\n",
       "<polygon fill=\"black\" points=\"664.152,-78.018 659.933,-68.2996 657.171,-78.5281 664.152,-78.018\" stroke=\"black\"/>\n",
       "</g>\n",
       "<!-- 14 -->\n",
       "<g class=\"node\" id=\"node15\"><title>14</title>\n",
       "<polygon fill=\"#399de5\" fill-opacity=\"0.882353\" points=\"842,-68 731,-68 731,-0 842,-0 842,-68\" stroke=\"black\"/>\n",
       "<text font-family=\"Times New Roman,serif\" font-size=\"14.00\" text-anchor=\"middle\" x=\"786.5\" y=\"-52.8\">gini = 0.19</text>\n",
       "<text font-family=\"Times New Roman,serif\" font-size=\"14.00\" text-anchor=\"middle\" x=\"786.5\" y=\"-37.8\">samples = 500</text>\n",
       "<text font-family=\"Times New Roman,serif\" font-size=\"14.00\" text-anchor=\"middle\" x=\"786.5\" y=\"-22.8\">value = [53, 447]</text>\n",
       "<text font-family=\"Times New Roman,serif\" font-size=\"14.00\" text-anchor=\"middle\" x=\"786.5\" y=\"-7.8\">class = fraude</text>\n",
       "</g>\n",
       "<!-- 12&#45;&gt;14 -->\n",
       "<g class=\"edge\" id=\"edge14\"><title>12-&gt;14</title>\n",
       "<path d=\"M710.556,-103.726C720.836,-94.423 731.754,-84.5428 742.011,-75.2612\" fill=\"none\" stroke=\"black\"/>\n",
       "<polygon fill=\"black\" points=\"744.637,-77.6047 749.703,-68.2996 739.94,-72.4144 744.637,-77.6047\" stroke=\"black\"/>\n",
       "</g>\n",
       "</g>\n",
       "</svg>"
      ],
      "text/plain": [
       "<IPython.core.display.SVG object>"
      ]
     },
     "metadata": {},
     "output_type": "display_data"
    }
   ],
   "source": [
    "display(SVG(graph.pipe(format='svg')))"
   ]
  },
  {
   "cell_type": "code",
   "execution_count": null,
   "metadata": {},
   "outputs": [],
   "source": []
  },
  {
   "cell_type": "code",
   "execution_count": null,
   "metadata": {},
   "outputs": [],
   "source": []
  }
 ],
 "metadata": {
  "kernelspec": {
   "display_name": "Python 3",
   "language": "python",
   "name": "python3"
  },
  "language_info": {
   "codemirror_mode": {
    "name": "ipython",
    "version": 3
   },
   "file_extension": ".py",
   "mimetype": "text/x-python",
   "name": "python",
   "nbconvert_exporter": "python",
   "pygments_lexer": "ipython3",
   "version": "3.7.0"
  }
 },
 "nbformat": 4,
 "nbformat_minor": 2
}
